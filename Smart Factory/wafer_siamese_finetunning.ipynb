{
 "cells": [
  {
   "cell_type": "markdown",
   "metadata": {},
   "source": [
    "# Kaggle WM-811K dataset으로 wafer의 defect 불량을 CNN으로 검출해보기"
   ]
  },
  {
   "cell_type": "code",
   "execution_count": 27,
   "metadata": {},
   "outputs": [],
   "source": [
    "import os\n",
    "from os.path import join\n",
    "\n",
    "import numpy as np\n",
    "import pandas as pd\n",
    "\n",
    "import tensorflow as tf\n",
    "from tensorflow.keras import layers, Input, models\n",
    "from tensorflow.keras.utils import to_categorical\n",
    "from tensorflow.keras.wrappers.scikit_learn import KerasClassifier \n",
    "from sklearn.model_selection import cross_val_score, train_test_split, KFold\n",
    "\n",
    "import matplotlib.pyplot as plt\n",
    "import cv2\n",
    "import random\n",
    "\n",
    "import warnings\n",
    "from tensorflow.keras.callbacks import LearningRateScheduler\n",
    "from tensorflow.keras.models import Model\n",
    "\n",
    "from tensorflow.keras.optimizers import Adam\n",
    "from tensorflow.keras.layers import Lambda"
   ]
  },
  {
   "cell_type": "markdown",
   "metadata": {},
   "source": [
    "## sklearn kfold cross validation 이용해서 검증할 모델 생성."
   ]
  },
  {
   "cell_type": "code",
   "execution_count": 28,
   "metadata": {},
   "outputs": [],
   "source": [
    "def contrastive_loss_with_margin(margin):\n",
    "    def contrastive_loss(y_true, y_pred):\n",
    "        '''Contrastive loss from Hadsell-et-al.'06\n",
    "        http://yann.lecun.com/exdb/publis/pdf/hadsell-chopra-lecun-06.pdf\n",
    "        '''\n",
    "        square_pred = tf.math.square(y_pred)\n",
    "        margin_square = tf.math.square(tf.math.maximum(margin - y_pred, 0))\n",
    "        return tf.math.reduce_mean(y_true * square_pred + (1 - y_true) * margin_square)\n",
    "\n",
    "    return contrastive_loss\n",
    "\n",
    "\n",
    "def create_resnet():\n",
    "    conv_base = tf.keras.applications.ResNet50(weights=\"imagenet\",\n",
    "                                            include_top=False,\n",
    "                                            pooling = 'max',\n",
    "                                            input_shape=(60,60,3))\n",
    "    \n",
    "    for layer in [l for l in conv_base.layers if 'conv5' not in l.name]:\n",
    "        layer.trainable = False\n",
    "    for layer in [l for l in conv_base.layers if 'conv5' in l.name or l.name == 'probs']:\n",
    "        layer.trainable = True\n",
    "        \n",
    "    #conv_base.trainable = False\n",
    "    \n",
    "    model = tf.keras.Sequential()\n",
    "    model.add(conv_base)\n",
    "    model.add(layers.Flatten())\n",
    "    model.add(layers.Dense(256, activation=None, kernel_regularizer=tf.keras.regularizers.l2(0.2)))  \n",
    "    \n",
    "    return model\n",
    "\n",
    "def euclidean_distance(vects):\n",
    "    x, y = vects\n",
    "    sum_square = tf.math.reduce_sum(tf.math.square(x - y), axis=1, keepdims=True)\n",
    "    return tf.math.sqrt(tf.math.maximum(sum_square, 1e-7))    \n",
    "\n",
    "checkpoint_path = \"C:/Users/user/Desktop/sh/siamese/새 폴더/weight_wafer/cp-{epoch:02d}.ckpt\"\n",
    "checkpoint_dir = os.path.dirname(checkpoint_path)\n",
    "\n",
    "cp_callback = tf.keras.callbacks.ModelCheckpoint(checkpoint_path, save_weights_only = True, save_freq='epoch',  monitor='val_loss', verbose=1, mode=\"min\")\n",
    "\n",
    "earlystopping = tf.keras.callbacks.EarlyStopping(monitor='val_loss', \n",
    "                              patience=4)"
   ]
  },
  {
   "cell_type": "code",
   "execution_count": 29,
   "metadata": {},
   "outputs": [],
   "source": [
    "base_model = create_resnet()\n",
    "input_a = Input(shape=(60,60,3), name='left_input')\n",
    "vector_output_a = base_model(input_a)\n",
    "input_b = Input(shape=(60,60,3), name='right_input')\n",
    "vector_output_b = base_model(input_b)\n",
    "output = Lambda(euclidean_distance, name='output_layer')([vector_output_a, vector_output_b])"
   ]
  },
  {
   "cell_type": "code",
   "execution_count": 30,
   "metadata": {},
   "outputs": [],
   "source": [
    "max_point2 = 10"
   ]
  },
  {
   "cell_type": "code",
   "execution_count": 31,
   "metadata": {},
   "outputs": [],
   "source": [
    "model_trained = Model([input_a, input_b], output)\n",
    "model_trained.compile(loss=contrastive_loss_with_margin(margin=1), optimizer=Adam())\n",
    "\n",
    "if max_point2 > 8:\n",
    "    model_trained.load_weights(\n",
    "        \"C:/Users/user/Desktop/sh/siamese/새 폴더/weight/cp-\" + str(max_point2+1) + \".ckpt\"\n",
    "    )\n",
    "else:\n",
    "    model_trained.load_weights(\n",
    "        \"C:/Users/user/Desktop/sh/siamese/새 폴더/weight/cp-0\" + str(max_point2+1) + \".ckpt\"\n",
    "    )"
   ]
  },
  {
   "cell_type": "code",
   "execution_count": 32,
   "metadata": {},
   "outputs": [],
   "source": [
    "path = 'C:/Users/user/Desktop/kamp/MetaLearning-pytorch/siamese/wafer/1per/train' # 폴더 경로\n",
    "os.chdir(path) # 해당 폴더로 이동\n",
    "error_list = os.listdir(path) # 해당 폴더에 있는 파일 이름을 리스트 형태로 받음\n",
    "\n",
    "Center_list = []\n",
    "Donut_list = []\n",
    "Edge_Loc_list = []\n",
    "Edge_Ring_list = []\n",
    "Loc_list = []\n",
    "Near_full_list = []\n",
    "none_list = []\n",
    "Random_list = []\n",
    "Scratch_list = []\n",
    "\n",
    "for error in error_list:\n",
    "    path = 'C:/Users/user/Desktop/kamp/MetaLearning-pytorch/siamese/wafer/1per/train/' + error # 폴더 경로\n",
    "    os.chdir(path) # 해당 폴더로 이동\n",
    "    file_list = os.listdir(path) # 해당 폴더에 있는 파일 이름을 리스트 형태로 받음\n",
    "    \n",
    "    for file in file_list:\n",
    "        f = cv2.imread(file, cv2.IMREAD_GRAYSCALE)\n",
    "        f = f / 2\n",
    "        image = cv2.resize(f, (60, 60))\n",
    "        image = image[:,:, np.newaxis]\n",
    "        image2 = np.repeat(image, 3, axis=2)\n",
    "        \n",
    "        if error == 'Center':\n",
    "            Center_list.append(image2)\n",
    "        elif error == 'Donut':\n",
    "            Donut_list.append(image2)\n",
    "        elif error == 'Edge-Loc':\n",
    "            Edge_Loc_list.append(image2)\n",
    "        elif error == 'Edge-Ring':\n",
    "            Edge_Ring_list.append(image2)\n",
    "        elif error == 'Loc':\n",
    "            Loc_list.append(image2)\n",
    "        elif error == 'Near-full':\n",
    "            Near_full_list.append(image2)\n",
    "        elif error == 'none':\n",
    "            none_list.append(image2)\n",
    "        elif error == 'Random':\n",
    "            Random_list.append(image2)\n",
    "        elif error == 'Scratch':\n",
    "            Scratch_list.append(image2)                                                                               "
   ]
  },
  {
   "cell_type": "code",
   "execution_count": 33,
   "metadata": {},
   "outputs": [],
   "source": [
    "#0은 okay / 1은 error\n",
    "import random\n",
    "\n",
    "image_list = [Center_list, Donut_list, Edge_Loc_list, Edge_Ring_list, Loc_list, Near_full_list, none_list, Random_list, Scratch_list]\n",
    "\n",
    "def create_pairs(image_list, dataset_size):\n",
    "    pairs = []\n",
    "    answer = []\n",
    "    \n",
    "    for i in range(dataset_size):\n",
    "        prob = np.random.rand()\n",
    "        \n",
    "        first_class = np.random.randint(9)\n",
    "        second_class = np.random.randint(9)\n",
    "        \n",
    "        while (first_class == second_class):\n",
    "            second_class = np.random.randint(9)\n",
    "                                                            \n",
    "        if prob > 0.5:\n",
    "            answer.append(1)\n",
    "            pairs.append(random.sample(image_list[first_class],2))\n",
    "        \n",
    "        else:\n",
    "            answer.append(0)\n",
    "            pairs.append([random.sample(image_list[first_class],1)[0] ,  random.sample(image_list[second_class],1)[0]])\n",
    "        \n",
    "        \n",
    "    return np.array(pairs), answer\n",
    "\n",
    "train_X_pair, train_y_pair = create_pairs(image_list, 2000)"
   ]
  },
  {
   "cell_type": "code",
   "execution_count": 34,
   "metadata": {},
   "outputs": [
    {
     "data": {
      "text/plain": [
       "(2000, 2, 60, 60, 3)"
      ]
     },
     "execution_count": 34,
     "metadata": {},
     "output_type": "execute_result"
    }
   ],
   "source": [
    "train_X_pair.shape"
   ]
  },
  {
   "cell_type": "code",
   "execution_count": 35,
   "metadata": {},
   "outputs": [],
   "source": [
    "path = 'C:/Users/user/Desktop/kamp/MetaLearning-pytorch/siamese/wafer/1per/val' # 폴더 경로\n",
    "os.chdir(path) # 해당 폴더로 이동\n",
    "error_list = os.listdir(path) # 해당 폴더에 있는 파일 이름을 리스트 형태로 받음\n",
    "\n",
    "Center_list = []\n",
    "Donut_list = []\n",
    "Edge_Loc_list = []\n",
    "Edge_Ring_list = []\n",
    "Loc_list = []\n",
    "Near_full_list = []\n",
    "none_list = []\n",
    "Random_list = []\n",
    "Scratch_list = []\n",
    "\n",
    "for error in error_list:\n",
    "    path = 'C:/Users/user/Desktop/kamp/MetaLearning-pytorch/siamese/wafer/1per/val/' + error # 폴더 경로\n",
    "    os.chdir(path) # 해당 폴더로 이동\n",
    "    file_list = os.listdir(path) # 해당 폴더에 있는 파일 이름을 리스트 형태로 받음\n",
    "    \n",
    "    for file in file_list:\n",
    "        f = cv2.imread(file, cv2.IMREAD_GRAYSCALE)\n",
    "        f = f / 2\n",
    "        image = cv2.resize(f, (60, 60))\n",
    "        image = image[:,:, np.newaxis]\n",
    "        image2 = np.repeat(image, 3, axis=2)\n",
    "        \n",
    "        if error == 'Center':\n",
    "            Center_list.append(image2)\n",
    "        elif error == 'Donut':\n",
    "            Donut_list.append(image2)\n",
    "        elif error == 'Edge-Loc':\n",
    "            Edge_Loc_list.append(image2)\n",
    "        elif error == 'Edge-Ring':\n",
    "            Edge_Ring_list.append(image2)\n",
    "        elif error == 'Loc':\n",
    "            Loc_list.append(image2)\n",
    "        elif error == 'Near-full':\n",
    "            Near_full_list.append(image2)\n",
    "        elif error == 'none':\n",
    "            none_list.append(image2)\n",
    "        elif error == 'Random':\n",
    "            Random_list.append(image2)\n",
    "        elif error == 'Scratch':\n",
    "            Scratch_list.append(image2)                                                                               "
   ]
  },
  {
   "cell_type": "code",
   "execution_count": 36,
   "metadata": {},
   "outputs": [],
   "source": [
    "image_list = [Center_list, Donut_list, Edge_Loc_list, Edge_Ring_list, Loc_list, Near_full_list, none_list, Random_list, Scratch_list]\n",
    "\n",
    "val_X_pair, val_y_pair = create_pairs(image_list, 2000)"
   ]
  },
  {
   "cell_type": "code",
   "execution_count": 37,
   "metadata": {},
   "outputs": [
    {
     "name": "stdout",
     "output_type": "stream",
     "text": [
      "WARNING:tensorflow:Unresolved object in checkpoint: (root).optimizer.iter\n",
      "WARNING:tensorflow:Unresolved object in checkpoint: (root).optimizer.beta_1\n",
      "WARNING:tensorflow:Unresolved object in checkpoint: (root).optimizer.beta_2\n",
      "WARNING:tensorflow:Unresolved object in checkpoint: (root).optimizer.decay\n",
      "WARNING:tensorflow:Unresolved object in checkpoint: (root).optimizer.learning_rate\n",
      "WARNING:tensorflow:A checkpoint was restored (e.g. tf.train.Checkpoint.restore or tf.keras.Model.load_weights) but not all checkpointed values were used. See above for specific issues. Use expect_partial() on the load status object, e.g. tf.train.Checkpoint.restore(...).expect_partial(), to silence these warnings, or use assert_consumed() to make the check explicit. See https://www.tensorflow.org/guide/checkpoint#loading_mechanics for details.\n",
      "Epoch 1/30\n",
      "63/63 [==============================] - 15s 166ms/step - loss: 0.2458 - val_loss: 0.3574\n",
      "\n",
      "Epoch 00001: saving model to C:/Users/user/Desktop/sh/siamese/새 폴더/weight_wafer\\cp-01.ckpt\n",
      "Epoch 2/30\n",
      "63/63 [==============================] - 9s 143ms/step - loss: 0.1437 - val_loss: 0.3488\n",
      "\n",
      "Epoch 00002: saving model to C:/Users/user/Desktop/sh/siamese/새 폴더/weight_wafer\\cp-02.ckpt\n",
      "Epoch 3/30\n",
      "63/63 [==============================] - 9s 138ms/step - loss: 0.1245 - val_loss: 0.3911\n",
      "\n",
      "Epoch 00003: saving model to C:/Users/user/Desktop/sh/siamese/새 폴더/weight_wafer\\cp-03.ckpt\n",
      "Epoch 4/30\n",
      "63/63 [==============================] - 9s 136ms/step - loss: 0.1081 - val_loss: 0.3569\n",
      "\n",
      "Epoch 00004: saving model to C:/Users/user/Desktop/sh/siamese/새 폴더/weight_wafer\\cp-04.ckpt\n",
      "Epoch 5/30\n",
      "63/63 [==============================] - 8s 135ms/step - loss: 0.1037 - val_loss: 0.3566\n",
      "\n",
      "Epoch 00005: saving model to C:/Users/user/Desktop/sh/siamese/새 폴더/weight_wafer\\cp-05.ckpt\n",
      "Epoch 6/30\n",
      "63/63 [==============================] - 8s 135ms/step - loss: 0.0954 - val_loss: 0.3823\n",
      "\n",
      "Epoch 00006: saving model to C:/Users/user/Desktop/sh/siamese/새 폴더/weight_wafer\\cp-06.ckpt\n"
     ]
    }
   ],
   "source": [
    "model_trained.compile(loss=contrastive_loss_with_margin(margin=1), optimizer=Adam())\n",
    "              \n",
    "history = model_trained.fit([train_X_pair[:, 0, :,:,:] ,train_X_pair[:, 1, :,:,:]] , np.array(train_y_pair,dtype=np.float64),\n",
    "                    epochs=30, batch_size = 32, callbacks= [earlystopping, cp_callback],\n",
    "                    validation_data=([val_X_pair[:,0,:,:,:] , val_X_pair[:, 1, :,:,:]] , np.array(train_y_pair,dtype=np.float64) ) )    \n",
    "                               "
   ]
  },
  {
   "cell_type": "code",
   "execution_count": 38,
   "metadata": {},
   "outputs": [
    {
     "data": {
      "image/png": "[encoded data removed]",
      "text/plain": [
       "<Figure size 720x720 with 1 Axes>"
      ]
     },
     "metadata": {},
     "output_type": "display_data"
    }
   ],
   "source": [
    "import matplotlib.pyplot as plt\n",
    "%matplotlib inline\n",
    "\n",
    "hist = history\n",
    "fig = plt.figure(figsize=(10,10))\n",
    "fig.set_facecolor('white')\n",
    "ax = fig.add_subplot()\n",
    "\n",
    "ax.plot(hist.history[\"loss\"], label = 'loss', marker='o')\n",
    "ax.plot(hist.history[\"val_loss\"], label = 'val_loss', marker='o')\n",
    "ax.legend()\n",
    "\n",
    "plt.title('Retrained Siamese Model', fontsize=20)\n",
    "plt.show()"
   ]
  },
  {
   "cell_type": "code",
   "execution_count": 39,
   "metadata": {},
   "outputs": [],
   "source": [
    "val_loss_history = hist.history[\"val_loss\"]\n",
    "max_point = val_loss_history.index(min(val_loss_history))"
   ]
  },
  {
   "cell_type": "code",
   "execution_count": 40,
   "metadata": {},
   "outputs": [
    {
     "data": {
      "text/plain": [
       "1"
      ]
     },
     "execution_count": 40,
     "metadata": {},
     "output_type": "execute_result"
    }
   ],
   "source": [
    "max_point"
   ]
  }
 ],
 "metadata": {
  "kernelspec": {
   "display_name": "Python 3.9.0 ('position31')",
   "language": "python",
   "name": "python3"
  },
  "language_info": {
   "codemirror_mode": {
    "name": "ipython",
    "version": 3
   },
   "file_extension": ".py",
   "mimetype": "text/x-python",
   "name": "python",
   "nbconvert_exporter": "python",
   "pygments_lexer": "ipython3",
   "version": "3.9.0"
  },
  "orig_nbformat": 4,
  "vscode": {
   "interpreter": {
    "hash": "5a905c007ff2d38bb2c7b3a29a7607fb69ad0b0424e092736524db498399bd8a"
   }
  }
 },
 "nbformat": 4,
 "nbformat_minor": 2
}
