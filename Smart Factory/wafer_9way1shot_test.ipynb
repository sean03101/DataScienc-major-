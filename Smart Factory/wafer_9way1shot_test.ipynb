{
 "cells": [
  {
   "cell_type": "markdown",
   "metadata": {},
   "source": [
    "# Kaggle WM-811K dataset으로 wafer의 defect 불량을 CNN으로 검출해보기"
   ]
  },
  {
   "cell_type": "code",
   "execution_count": 1,
   "metadata": {},
   "outputs": [],
   "source": [
    "import os\n",
    "from os.path import join\n",
    "\n",
    "import numpy as np\n",
    "import pandas as pd\n",
    "\n",
    "import tensorflow as tf\n",
    "from tensorflow.keras import layers, Input, models\n",
    "from tensorflow.keras.utils import to_categorical\n",
    "from tensorflow.keras.wrappers.scikit_learn import KerasClassifier \n",
    "from sklearn.model_selection import cross_val_score, train_test_split, KFold\n",
    "\n",
    "import matplotlib.pyplot as plt\n",
    "import cv2\n",
    "import random\n",
    "\n",
    "import warnings\n",
    "from tensorflow.keras.callbacks import LearningRateScheduler\n",
    "from tensorflow.keras.models import Model\n",
    "\n",
    "from tensorflow.keras.optimizers import Adam\n",
    "from tensorflow.keras.layers import Lambda"
   ]
  },
  {
   "cell_type": "markdown",
   "metadata": {},
   "source": [
    "## sklearn kfold cross validation 이용해서 검증할 모델 생성."
   ]
  },
  {
   "cell_type": "code",
   "execution_count": 2,
   "metadata": {},
   "outputs": [],
   "source": [
    "def contrastive_loss_with_margin(margin):\n",
    "    def contrastive_loss(y_true, y_pred):\n",
    "        '''Contrastive loss from Hadsell-et-al.'06\n",
    "        http://yann.lecun.com/exdb/publis/pdf/hadsell-chopra-lecun-06.pdf\n",
    "        '''\n",
    "        square_pred = tf.math.square(y_pred)\n",
    "        margin_square = tf.math.square(tf.math.maximum(margin - y_pred, 0))\n",
    "        return tf.math.reduce_mean(y_true * square_pred + (1 - y_true) * margin_square)\n",
    "\n",
    "    return contrastive_loss\n",
    "\n",
    "\n",
    "def create_resnet():\n",
    "    conv_base = tf.keras.applications.ResNet50(weights=\"imagenet\",\n",
    "                                            include_top=False,\n",
    "                                            pooling = 'max',\n",
    "                                            input_shape=(60,60,3))\n",
    "    \n",
    "    for layer in [l for l in conv_base.layers if 'conv5' not in l.name]:\n",
    "        layer.trainable = False\n",
    "    for layer in [l for l in conv_base.layers if 'conv5' in l.name or l.name == 'probs']:\n",
    "        layer.trainable = True\n",
    "        \n",
    "    #conv_base.trainable = False\n",
    "    \n",
    "    model = tf.keras.Sequential()\n",
    "    model.add(conv_base)\n",
    "    model.add(layers.Flatten())\n",
    "    model.add(layers.Dense(256, activation=None, kernel_regularizer=tf.keras.regularizers.l2(0.2)))  \n",
    "    \n",
    "    return model\n",
    "\n",
    "def euclidean_distance(vects):\n",
    "    x, y = vects\n",
    "    sum_square = tf.math.reduce_sum(tf.math.square(x - y), axis=1, keepdims=True)\n",
    "    return tf.math.sqrt(tf.math.maximum(sum_square, 1e-7))    \n",
    "\n",
    "checkpoint_path = \"C:/Users/user/Desktop/sh/Wafer/weight/cp-{epoch:02d}.ckpt\"\n",
    "checkpoint_dir = os.path.dirname(checkpoint_path)\n",
    "\n",
    "cp_callback = tf.keras.callbacks.ModelCheckpoint(checkpoint_path, save_weights_only = True, save_freq='epoch',  monitor='val_loss', verbose=1, mode=\"min\")\n",
    "\n",
    "earlystopping = tf.keras.callbacks.EarlyStopping(monitor='val_loss', \n",
    "                              patience=7)"
   ]
  },
  {
   "cell_type": "code",
   "execution_count": 3,
   "metadata": {},
   "outputs": [],
   "source": [
    "base_model = create_resnet()\n",
    "input_a = Input(shape=(60,60,3), name='left_input')\n",
    "vector_output_a = base_model(input_a)\n",
    "input_b = Input(shape=(60,60,3), name='right_input')\n",
    "vector_output_b = base_model(input_b)\n",
    "output = Lambda(euclidean_distance, name='output_layer')([vector_output_a, vector_output_b])"
   ]
  },
  {
   "cell_type": "code",
   "execution_count": 4,
   "metadata": {},
   "outputs": [],
   "source": [
    "max_point2 = 3"
   ]
  },
  {
   "cell_type": "code",
   "execution_count": 5,
   "metadata": {},
   "outputs": [],
   "source": [
    "model_trained = Model([input_a, input_b], output)\n",
    "model_trained.compile(loss=contrastive_loss_with_margin(margin=1), optimizer=Adam())\n",
    "\n",
    "if max_point2 > 8:\n",
    "    model_trained.load_weights(\n",
    "        \"C:/Users/user/Desktop/sh/siamese/새 폴더/weight_wafer/cp-\" + str(max_point2+1) + \".ckpt\"\n",
    "    )\n",
    "else:\n",
    "    model_trained.load_weights(\n",
    "        \"C:/Users/user/Desktop/sh/siamese/새 폴더/weight_wafer/cp-0\" + str(max_point2+1) + \".ckpt\"\n",
    "    )"
   ]
  },
  {
   "cell_type": "code",
   "execution_count": 6,
   "metadata": {},
   "outputs": [],
   "source": [
    "path = 'C:/Users/user/Desktop/kamp/MetaLearning-pytorch/siamese/wafer/1per/test' # 폴더 경로\n",
    "os.chdir(path) # 해당 폴더로 이동\n",
    "error_list = os.listdir(path) # 해당 폴더에 있는 파일 이름을 리스트 형태로 받음\n",
    "\n",
    "Center_list = []\n",
    "Donut_list = []\n",
    "Edge_Loc_list = []\n",
    "Edge_Ring_list = []\n",
    "Loc_list = []\n",
    "Near_full_list = []\n",
    "none_list = []\n",
    "Random_list = []\n",
    "Scratch_list = []\n",
    "\n",
    "for error in error_list:\n",
    "    path = 'C:/Users/user/Desktop/kamp/MetaLearning-pytorch/siamese/wafer/1per/test/' + error # 폴더 경로\n",
    "    os.chdir(path) # 해당 폴더로 이동\n",
    "    file_list = os.listdir(path) # 해당 폴더에 있는 파일 이름을 리스트 형태로 받음\n",
    "    \n",
    "    for file in file_list:\n",
    "        f = cv2.imread(file, cv2.IMREAD_GRAYSCALE)\n",
    "        f = f / 2\n",
    "        image = cv2.resize(f, (60, 60))\n",
    "        image = image[:,:, np.newaxis]\n",
    "        image2 = np.repeat(image, 3, axis=2)\n",
    "        \n",
    "        if error == 'Center':\n",
    "            Center_list.append(image2)\n",
    "        elif error == 'Donut':\n",
    "            Donut_list.append(image2)\n",
    "        elif error == 'Edge-Loc':\n",
    "            Edge_Loc_list.append(image2)\n",
    "        elif error == 'Edge-Ring':\n",
    "            Edge_Ring_list.append(image2)\n",
    "        elif error == 'Loc':\n",
    "            Loc_list.append(image2)\n",
    "        elif error == 'Near-full':\n",
    "            Near_full_list.append(image2)\n",
    "        elif error == 'none':\n",
    "            none_list.append(image2)\n",
    "        elif error == 'Random':\n",
    "            Random_list.append(image2)\n",
    "        elif error == 'Scratch':\n",
    "            Scratch_list.append(image2)                                                                               "
   ]
  },
  {
   "cell_type": "code",
   "execution_count": 7,
   "metadata": {},
   "outputs": [
    {
     "data": {
      "text/plain": [
       "147"
      ]
     },
     "execution_count": 7,
     "metadata": {},
     "output_type": "execute_result"
    }
   ],
   "source": [
    "len(Near_full_list)"
   ]
  },
  {
   "cell_type": "code",
   "execution_count": 19,
   "metadata": {},
   "outputs": [],
   "source": [
    "#0은 okay / 1은 error\n",
    "import random\n",
    "\n",
    "def create_pairs(Center_list, Donut_list, Edge_Loc_list, Edge_Ring_list, Loc_list, Near_full_list, none_list, Random_list, Scratch_list, dataset_size):\n",
    "    pairs = []\n",
    "    answer = []\n",
    "    \n",
    "    for i in range(dataset_size):\n",
    "        anchor_image_class = np.random.randint(9)\n",
    "        answer.append(anchor_image_class)\n",
    "    \n",
    "        if anchor_image_class == 0:\n",
    "            anchor_image_list = random.sample(Center_list, 2)\n",
    "            pairs.append(anchor_image_list)\n",
    "            pairs.append([anchor_image_list[0], random.sample(Donut_list,1)[0]])\n",
    "            pairs.append([anchor_image_list[0], random.sample(Edge_Loc_list,1)[0]])\n",
    "            pairs.append([anchor_image_list[0], random.sample(Edge_Ring_list,1)[0]])\n",
    "            pairs.append([anchor_image_list[0], random.sample(Loc_list,1)[0]])\n",
    "            pairs.append([anchor_image_list[0], random.sample(Near_full_list,1)[0]])\n",
    "            pairs.append([anchor_image_list[0], random.sample(none_list,1)[0]])\n",
    "            pairs.append([anchor_image_list[0], random.sample(Random_list,1)[0]])\n",
    "            pairs.append([anchor_image_list[0], random.sample(Scratch_list,1)[0]])\n",
    "        \n",
    "        elif anchor_image_class == 1:\n",
    "            anchor_image_list = random.sample(Donut_list, 2)\n",
    "            pairs.append([anchor_image_list[0], random.sample(Center_list,1)[0]])\n",
    "            pairs.append(anchor_image_list)\n",
    "            pairs.append([anchor_image_list[0], random.sample(Edge_Loc_list,1)[0]])\n",
    "            pairs.append([anchor_image_list[0], random.sample(Edge_Ring_list,1)[0]])\n",
    "            pairs.append([anchor_image_list[0], random.sample(Loc_list,1)[0]])\n",
    "            pairs.append([anchor_image_list[0], random.sample(Near_full_list,1)[0]])\n",
    "            pairs.append([anchor_image_list[0], random.sample(none_list,1)[0]])\n",
    "            pairs.append([anchor_image_list[0], random.sample(Random_list,1)[0]])\n",
    "            pairs.append([anchor_image_list[0], random.sample(Scratch_list,1)[0]])            \n",
    "            \n",
    "        elif anchor_image_class == 2:\n",
    "            anchor_image_list = random.sample(Edge_Loc_list, 2)\n",
    "            \n",
    "            pairs.append([anchor_image_list[0], random.sample(Center_list,1)[0]])\n",
    "            pairs.append([anchor_image_list[0], random.sample(Donut_list,1)[0]])\n",
    "            pairs.append(anchor_image_list)\n",
    "            pairs.append([anchor_image_list[0], random.sample(Edge_Ring_list,1)[0]])\n",
    "            pairs.append([anchor_image_list[0], random.sample(Loc_list,1)[0]])\n",
    "            pairs.append([anchor_image_list[0], random.sample(Near_full_list,1)[0]])\n",
    "            pairs.append([anchor_image_list[0], random.sample(none_list,1)[0]])\n",
    "            pairs.append([anchor_image_list[0], random.sample(Random_list,1)[0]])\n",
    "            pairs.append([anchor_image_list[0], random.sample(Scratch_list,1)[0]])  \n",
    "\n",
    "        elif anchor_image_class == 3:\n",
    "            anchor_image_list = random.sample(Edge_Ring_list, 2)\n",
    "            \n",
    "            pairs.append([anchor_image_list[0], random.sample(Center_list,1)[0]])\n",
    "            pairs.append([anchor_image_list[0], random.sample(Donut_list,1)[0]])\n",
    "            pairs.append([anchor_image_list[0], random.sample(Edge_Loc_list,1)[0]])\n",
    "            pairs.append(anchor_image_list)\n",
    "            pairs.append([anchor_image_list[0], random.sample(Loc_list,1)[0]])\n",
    "            pairs.append([anchor_image_list[0], random.sample(Near_full_list,1)[0]])\n",
    "            pairs.append([anchor_image_list[0], random.sample(none_list,1)[0]])\n",
    "            pairs.append([anchor_image_list[0], random.sample(Random_list,1)[0]])\n",
    "            pairs.append([anchor_image_list[0], random.sample(Scratch_list,1)[0]])  \n",
    "            \n",
    "        elif anchor_image_class == 4:\n",
    "            anchor_image_list = random.sample(Loc_list, 2)\n",
    "            \n",
    "            pairs.append([anchor_image_list[0], random.sample(Center_list,1)[0]])\n",
    "            pairs.append([anchor_image_list[0], random.sample(Donut_list,1)[0]])\n",
    "            pairs.append([anchor_image_list[0], random.sample(Edge_Loc_list,1)[0]])\n",
    "            pairs.append([anchor_image_list[0], random.sample(Edge_Ring_list,1)[0]])\n",
    "            pairs.append(anchor_image_list)\n",
    "            pairs.append([anchor_image_list[0], random.sample(Near_full_list,1)[0]])\n",
    "            pairs.append([anchor_image_list[0], random.sample(none_list,1)[0]])\n",
    "            pairs.append([anchor_image_list[0], random.sample(Random_list,1)[0]])\n",
    "            pairs.append([anchor_image_list[0], random.sample(Scratch_list,1)[0]])\n",
    "            \n",
    "        elif anchor_image_class == 5:\n",
    "            anchor_image_list = random.sample(Near_full_list, 2)\n",
    "            \n",
    "            pairs.append([anchor_image_list[0], random.sample(Center_list,1)[0]])\n",
    "            pairs.append([anchor_image_list[0], random.sample(Donut_list,1)[0]])\n",
    "            pairs.append([anchor_image_list[0], random.sample(Edge_Loc_list,1)[0]])\n",
    "            pairs.append([anchor_image_list[0], random.sample(Edge_Ring_list,1)[0]])\n",
    "            pairs.append([anchor_image_list[0], random.sample(Loc_list,1)[0]])\n",
    "            pairs.append(anchor_image_list)\n",
    "            pairs.append([anchor_image_list[0], random.sample(none_list,1)[0]])\n",
    "            pairs.append([anchor_image_list[0], random.sample(Random_list,1)[0]])\n",
    "            pairs.append([anchor_image_list[0], random.sample(Scratch_list,1)[0]])                  \n",
    "                                                \n",
    "        elif anchor_image_class == 6:\n",
    "            anchor_image_list = random.sample(none_list, 2)\n",
    "            \n",
    "            pairs.append([anchor_image_list[0], random.sample(Center_list,1)[0]])\n",
    "            pairs.append([anchor_image_list[0], random.sample(Donut_list,1)[0]])\n",
    "            pairs.append([anchor_image_list[0], random.sample(Edge_Loc_list,1)[0]])\n",
    "            pairs.append([anchor_image_list[0], random.sample(Edge_Ring_list,1)[0]])\n",
    "            pairs.append([anchor_image_list[0], random.sample(Loc_list,1)[0]])\n",
    "            pairs.append([anchor_image_list[0], random.sample(Near_full_list,1)[0]])\n",
    "            pairs.append(anchor_image_list)\n",
    "            pairs.append([anchor_image_list[0], random.sample(Random_list,1)[0]])\n",
    "            pairs.append([anchor_image_list[0], random.sample(Scratch_list,1)[0]])                  \n",
    "\n",
    "        elif anchor_image_class == 7:\n",
    "            anchor_image_list = random.sample(Random_list, 2)\n",
    "            \n",
    "            pairs.append([anchor_image_list[0], random.sample(Center_list,1)[0]])\n",
    "            pairs.append([anchor_image_list[0], random.sample(Donut_list,1)[0]])\n",
    "            pairs.append([anchor_image_list[0], random.sample(Edge_Loc_list,1)[0]])\n",
    "            pairs.append([anchor_image_list[0], random.sample(Edge_Ring_list,1)[0]])\n",
    "            pairs.append([anchor_image_list[0], random.sample(Loc_list,1)[0]])\n",
    "            pairs.append([anchor_image_list[0], random.sample(Near_full_list,1)[0]])\n",
    "            pairs.append([anchor_image_list[0], random.sample(none_list,1)[0]])\n",
    "            pairs.append(anchor_image_list)\n",
    "            pairs.append([anchor_image_list[0], random.sample(Scratch_list,1)[0]])                  \n",
    "\n",
    "        elif anchor_image_class == 8:\n",
    "            anchor_image_list = random.sample(Scratch_list, 2)\n",
    "            \n",
    "            pairs.append([anchor_image_list[0], random.sample(Center_list,1)[0]])\n",
    "            pairs.append([anchor_image_list[0], random.sample(Donut_list,1)[0]])\n",
    "            pairs.append([anchor_image_list[0], random.sample(Edge_Loc_list,1)[0]])\n",
    "            pairs.append([anchor_image_list[0], random.sample(Edge_Ring_list,1)[0]])\n",
    "            pairs.append([anchor_image_list[0], random.sample(Loc_list,1)[0]])\n",
    "            pairs.append([anchor_image_list[0], random.sample(Near_full_list,1)[0]])\n",
    "            pairs.append([anchor_image_list[0], random.sample(none_list,1)[0]])\n",
    "            pairs.append([anchor_image_list[0], random.sample(Random_list,1)[0]])\n",
    "            pairs.append(anchor_image_list)\n",
    "              \n",
    "            \n",
    "                                                                       \n",
    "    \n",
    "    return np.array(pairs), answer\n",
    "\n",
    "test_X_pair, answer = create_pairs(Center_list, Donut_list, Edge_Loc_list, Edge_Ring_list, Loc_list, Near_full_list, none_list, Random_list, Scratch_list, 3000)"
   ]
  },
  {
   "cell_type": "code",
   "execution_count": 20,
   "metadata": {},
   "outputs": [
    {
     "data": {
      "text/plain": [
       "(27000, 2, 60, 60, 3)"
      ]
     },
     "execution_count": 20,
     "metadata": {},
     "output_type": "execute_result"
    }
   ],
   "source": [
    "test_X_pair.shape"
   ]
  },
  {
   "cell_type": "code",
   "execution_count": 21,
   "metadata": {},
   "outputs": [
    {
     "data": {
      "text/plain": [
       "0.37833333333333335"
      ]
     },
     "execution_count": 21,
     "metadata": {},
     "output_type": "execute_result"
    }
   ],
   "source": [
    "y_pred = model_trained.predict([test_X_pair[:, 0, :,:,:] , test_X_pair[:, 1, :,:,:]])\n",
    "y_pred = y_pred.reshape(-1,9)\n",
    "\n",
    "result = []\n",
    "\n",
    "prediction = []\n",
    "\n",
    "for i in range(y_pred.shape[0]):\n",
    "    if (np.argmin(y_pred[i]) == answer[i]):\n",
    "        result.append(1.0)\n",
    "    else:\n",
    "        result.append(0.0)\n",
    "        \n",
    "    prediction.append(np.argmin(y_pred[i]))\n",
    "\n",
    "score = np.mean(result)\n",
    "score"
   ]
  },
  {
   "cell_type": "code",
   "execution_count": 22,
   "metadata": {},
   "outputs": [
    {
     "data": {
      "text/plain": [
       "0"
      ]
     },
     "execution_count": 22,
     "metadata": {},
     "output_type": "execute_result"
    }
   ],
   "source": [
    "answer[2]"
   ]
  },
  {
   "cell_type": "code",
   "execution_count": 23,
   "metadata": {},
   "outputs": [
    {
     "data": {
      "text/plain": [
       "array([0.23380394, 0.11887501, 0.5222121 , 0.9430542 , 0.34054154,\n",
       "       0.6154027 , 0.5250228 , 0.4804982 , 0.4777499 ], dtype=float32)"
      ]
     },
     "execution_count": 23,
     "metadata": {},
     "output_type": "execute_result"
    }
   ],
   "source": [
    "y_pred[2]"
   ]
  },
  {
   "cell_type": "code",
   "execution_count": 24,
   "metadata": {},
   "outputs": [
    {
     "data": {
      "text/plain": [
       "0.11887501"
      ]
     },
     "execution_count": 24,
     "metadata": {},
     "output_type": "execute_result"
    }
   ],
   "source": [
    "y_pred[2].min()"
   ]
  },
  {
   "cell_type": "code",
   "execution_count": 25,
   "metadata": {},
   "outputs": [
    {
     "data": {
      "text/plain": [
       "1"
      ]
     },
     "execution_count": 25,
     "metadata": {},
     "output_type": "execute_result"
    }
   ],
   "source": [
    "np.argmin(y_pred[2])"
   ]
  },
  {
   "cell_type": "code",
   "execution_count": 26,
   "metadata": {},
   "outputs": [
    {
     "data": {
      "text/plain": [
       "0.0"
      ]
     },
     "execution_count": 26,
     "metadata": {},
     "output_type": "execute_result"
    }
   ],
   "source": [
    "result[2]"
   ]
  },
  {
   "cell_type": "code",
   "execution_count": 27,
   "metadata": {},
   "outputs": [],
   "source": [
    "import itertools\n",
    "\n",
    "def plot_confusion_matrix(con_mat, labels, title='Confusion Matrix', cmap=plt.cm.get_cmap('Blues'), normalize=False):\n",
    "    plt.figure(figsize=(12,12))\n",
    "    plt.imshow(con_mat, interpolation='nearest', cmap=cmap)\n",
    "    \n",
    "    plt.title(title)\n",
    "    plt.colorbar()\n",
    "    marks = np.arange(len(labels))\n",
    "    nlabels = []\n",
    "    for k in range(len(con_mat)):\n",
    "        n = sum(con_mat[k])\n",
    "        nlabel = '{0}(n={1})'.format(labels[k],n)\n",
    "        nlabels.append(nlabel)\n",
    "    plt.xticks(marks, labels, rotation=45)\n",
    "    plt.yticks(marks, nlabels)\n",
    "\n",
    "    thresh = con_mat.max() / 2.\n",
    "    if normalize:\n",
    "        for i, j in itertools.product(range(con_mat.shape[0]), range(con_mat.shape[1])):\n",
    "            plt.text(j, i, '{0}%'.format(np.round(con_mat[i, j] * 100 / n , 2)), horizontalalignment=\"center\", color=\"white\" if con_mat[i, j] > thresh else \"black\")\n",
    "    else:\n",
    "        for i, j in itertools.product(range(con_mat.shape[0]), range(con_mat.shape[1])):\n",
    "            plt.text(j, i, con_mat[i, j], horizontalalignment=\"center\", color=\"white\" if con_mat[i, j] > thresh else \"black\")\n",
    "    plt.tight_layout()\n",
    "    plt.ylabel('True label')\n",
    "    plt.xlabel('Predicted label')\n",
    "    plt.show()"
   ]
  },
  {
   "cell_type": "code",
   "execution_count": 28,
   "metadata": {},
   "outputs": [
    {
     "data": {
      "text/plain": [
       "array([[105,  79,  15,   1,  43,   0,  22,  14,  41],\n",
       "       [102, 139,  17,   1,  45,   3,   4,  11,  20],\n",
       "       [ 16,   6,  88,  27,  41,  19,  70,  30,  58],\n",
       "       [  2,   0,  32, 233,   4,  44,   5,   3,   5],\n",
       "       [ 52,  27,  41,   4,  66,   0,  65,  18,  58],\n",
       "       [  0,   1,  20,  44,   3, 170,   1,  80,   1],\n",
       "       [ 21,   3,  37,   1,  58,   1, 118,   1,  79],\n",
       "       [ 24,  14,  39,   9,  21,  73,   8, 146,  22],\n",
       "       [ 39,  18,  48,  10,  67,   0,  70,   7,  70]], dtype=int64)"
      ]
     },
     "execution_count": 28,
     "metadata": {},
     "output_type": "execute_result"
    }
   ],
   "source": [
    "from sklearn.metrics import confusion_matrix\n",
    "#rounded_labels=np.argmax(test_image_label, axis=1)\n",
    "#rounded_labels\n",
    "\n",
    "#y_pred = model.predict_classes(np.array(val_image_list))\n",
    "cf = confusion_matrix(answer, prediction)\n",
    "cf"
   ]
  },
  {
   "cell_type": "code",
   "execution_count": 29,
   "metadata": {},
   "outputs": [
    {
     "data": {
      "image/png": "[encoded data removed]",
      "text/plain": [
       "<Figure size 864x864 with 2 Axes>"
      ]
     },
     "metadata": {
      "needs_background": "light"
     },
     "output_type": "display_data"
    }
   ],
   "source": [
    "label = error_list\n",
    "plot_confusion_matrix(cf, labels=label, normalize=True)"
   ]
  }
 ],
 "metadata": {
  "kernelspec": {
   "display_name": "Python 3.9.0 ('position31')",
   "language": "python",
   "name": "python3"
  },
  "language_info": {
   "codemirror_mode": {
    "name": "ipython",
    "version": 3
   },
   "file_extension": ".py",
   "mimetype": "text/x-python",
   "name": "python",
   "nbconvert_exporter": "python",
   "pygments_lexer": "ipython3",
   "version": "3.9.0"
  },
  "orig_nbformat": 4,
  "vscode": {
   "interpreter": {
    "hash": "5a905c007ff2d38bb2c7b3a29a7607fb69ad0b0424e092736524db498399bd8a"
   }
  }
 },
 "nbformat": 4,
 "nbformat_minor": 2
}
