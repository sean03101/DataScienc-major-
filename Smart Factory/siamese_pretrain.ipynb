{
 "cells": [
  {
   "cell_type": "code",
   "execution_count": 1,
   "metadata": {},
   "outputs": [],
   "source": [
    "import numpy as np\n",
    "import pandas as pd\n",
    "from cv2 import imread, normalize, resize\n",
    "import os\n",
    "import matplotlib.pyplot as plt\n",
    "%matplotlib inline\n",
    "import cv2\n",
    "\n",
    "import tensorflow as tf\n",
    "from sklearn.model_selection import train_test_split\n",
    "from tensorflow.keras.models import Model\n",
    "from tensorflow.keras.layers import Dense, Input, Dropout, Flatten\n"
   ]
  },
  {
   "cell_type": "code",
   "execution_count": 2,
   "metadata": {},
   "outputs": [],
   "source": [
    "train_folder = \"background_folder/images_train/\"\n",
    "val_folder = 'background_folder/images_validation/'\n",
    "save_path = '/data/'\n",
    "\n",
    "def loadimgs(path,n = 0):\n",
    "    '''\n",
    "    path => Path of train directory or test directory\n",
    "    '''\n",
    "    X=[]\n",
    "    y = []\n",
    "    cat_dict = {}\n",
    "    lang_dict = {}\n",
    "    curr_y = n\n",
    "    # we load every alphabet seperately so we can isolate them later\n",
    "    for alphabet in os.listdir(path):\n",
    "        print(\"loading alphabet: \" + alphabet)\n",
    "        lang_dict[alphabet] = [curr_y,None]\n",
    "        alphabet_path = os.path.join(path,alphabet)\n",
    "        # every letter/category has it's own column in the array, so  load seperately\n",
    "        for letter in os.listdir(alphabet_path):\n",
    "            cat_dict[curr_y] = (alphabet, letter)\n",
    "            category_images=[]\n",
    "            letter_path = os.path.join(alphabet_path, letter)\n",
    "            # read all the images in the current category\n",
    "            for filename in os.listdir(letter_path):\n",
    "                image_path = os.path.join(letter_path, filename)\n",
    "                image = imread(image_path, cv2.IMREAD_COLOR)\n",
    "                image = normalize(image, None, alpha=0, beta=1, norm_type=cv2.NORM_MINMAX, dtype=cv2.CV_32F)\n",
    "                image = resize(image, (60,60))\n",
    "                category_images.append(image)\n",
    "                y.append(curr_y)\n",
    "            try:\n",
    "                X.append(np.stack(category_images))\n",
    "            # edge case  - last one\n",
    "            except ValueError as e:\n",
    "                print(e)\n",
    "                print(\"error - category_images:\", category_images)\n",
    "            curr_y += 1\n",
    "            lang_dict[alphabet][1] = curr_y - 1\n",
    "    y = np.vstack(y)\n",
    "    X = np.stack(X)\n",
    "    return X,y,lang_dict"
   ]
  },
  {
   "cell_type": "markdown",
   "metadata": {},
   "source": [
    "## Loading the train images into tensors\n",
    "여기서 사용하는 것은 images_background 폴더에 있는 30개의 알파벳과 images_evaluation 폴더에 있는 20개의 알파벳을 사용하였다."
   ]
  },
  {
   "cell_type": "code",
   "execution_count": 3,
   "metadata": {},
   "outputs": [
    {
     "name": "stdout",
     "output_type": "stream",
     "text": [
      "loading alphabet: Alphabet_of_the_Magi\n",
      "loading alphabet: Anglo-Saxon_Futhorc\n",
      "loading alphabet: Arcadian\n",
      "loading alphabet: Armenian\n",
      "loading alphabet: Asomtavruli_(Georgian)\n",
      "loading alphabet: Balinese\n",
      "loading alphabet: Bengali\n",
      "loading alphabet: Blackfoot_(Canadian_Aboriginal_Syllabics)\n",
      "loading alphabet: Braille\n",
      "loading alphabet: Burmese_(Myanmar)\n",
      "loading alphabet: Cyrillic\n",
      "loading alphabet: Early_Aramaic\n",
      "loading alphabet: Futurama\n",
      "loading alphabet: Grantha\n",
      "loading alphabet: Greek\n",
      "loading alphabet: Gujarati\n",
      "loading alphabet: Hebrew\n",
      "loading alphabet: Inuktitut_(Canadian_Aboriginal_Syllabics)\n",
      "loading alphabet: Japanese_(hiragana)\n",
      "loading alphabet: Japanese_(katakana)\n",
      "loading alphabet: Korean\n",
      "loading alphabet: Latin\n",
      "loading alphabet: Malay_(Jawi_-_Arabic)\n",
      "loading alphabet: Mkhedruli_(Georgian)\n",
      "loading alphabet: N_Ko\n",
      "loading alphabet: Ojibwe_(Canadian_Aboriginal_Syllabics)\n",
      "loading alphabet: Sanskrit\n",
      "loading alphabet: Syriac_(Estrangelo)\n",
      "loading alphabet: Tagalog\n",
      "loading alphabet: Tifinagh\n"
     ]
    }
   ],
   "source": [
    "train_X, train_y ,c=loadimgs(train_folder)"
   ]
  },
  {
   "cell_type": "code",
   "execution_count": 4,
   "metadata": {},
   "outputs": [
    {
     "name": "stdout",
     "output_type": "stream",
     "text": [
      "loading alphabet: Angelic\n",
      "loading alphabet: Atlantean\n",
      "loading alphabet: Avesta\n",
      "loading alphabet: Glagolitic\n",
      "loading alphabet: Kannada\n",
      "loading alphabet: Malayalam\n",
      "loading alphabet: Mongolian\n",
      "loading alphabet: Oriya\n",
      "loading alphabet: Syriac_(Serto)\n",
      "loading alphabet: Tibetan\n"
     ]
    }
   ],
   "source": [
    "val_X, val_y ,c_val=loadimgs(val_folder)"
   ]
  },
  {
   "cell_type": "code",
   "execution_count": 5,
   "metadata": {},
   "outputs": [
    {
     "data": {
      "text/plain": [
       "(346, 20, 60, 60, 3)"
      ]
     },
     "execution_count": 5,
     "metadata": {},
     "output_type": "execute_result"
    }
   ],
   "source": [
    "val_X.shape"
   ]
  },
  {
   "cell_type": "code",
   "execution_count": 6,
   "metadata": {},
   "outputs": [
    {
     "name": "stderr",
     "output_type": "stream",
     "text": [
      "C:\\Users\\user\\AppData\\Local\\Temp\\ipykernel_16740\\3121119353.py:6: MatplotlibDeprecationWarning: Auto-removal of overlapping axes is deprecated since 3.6 and will be removed two minor releases later; explicitly call ax.remove() as needed.\n",
      "  plt.subplot(1,2,1)\n"
     ]
    },
    {
     "data": {
      "image/png": "[encoded data removed]",
      "text/plain": [
       "<Figure size 576x288 with 2 Axes>"
      ]
     },
     "metadata": {
      "needs_background": "light"
     },
     "output_type": "display_data"
    }
   ],
   "source": [
    "import matplotlib.pyplot as plt\n",
    "\n",
    "def show_image(image1, image2):\n",
    "    plt.figure(figsize=(8, 4))\n",
    "    plt.grid(False)\n",
    "    plt.subplot(1,2,1)\n",
    "    plt.imshow(image1)\n",
    "    plt.subplot(1,2,2)\n",
    "    plt.imshow(image2)\n",
    "    plt.show()\n",
    "\n",
    "    # show images at this index\n",
    "show_image(train_X[664][2], train_X[664][0])"
   ]
  },
  {
   "cell_type": "markdown",
   "metadata": {},
   "source": [
    "30개의 다른 알파벳에서 964개의 문자, 20개의 이미지, 105 x 105의 회색 이미지이며 총 이미지 19280(964 * 30)개를 사용한다. "
   ]
  },
  {
   "cell_type": "code",
   "execution_count": 7,
   "metadata": {},
   "outputs": [],
   "source": [
    "def create_pairs_train(X, dataset_size):\n",
    "    pairs = []\n",
    "    labels = []\n",
    "    for i in range(dataset_size):\n",
    "        rand_num_class_first = np.random.randint(0,X.shape[0])\n",
    "        rand_num_img_first = np.random.randint(0,X.shape[1])\n",
    "        first_image = X[rand_num_class_first][rand_num_img_first]\n",
    "        \n",
    "        if(np.random.rand() > 0.5):\n",
    "            rand_num_class_second = rand_num_class_first\n",
    "            labels.append(1.0)\n",
    "        \n",
    "        else:\n",
    "            rand_num_class_second = np.random.randint(0,X.shape[0])\n",
    "            while(rand_num_class_second == rand_num_class_first):\n",
    "                rand_num_class_second = np.random.randint(0,X.shape[0])\n",
    "            labels.append(0.0)\n",
    "                \n",
    "        rand_num_img_second = np.random.randint(0,X.shape[1])\n",
    "            \n",
    "        while(rand_num_img_second == rand_num_img_first):\n",
    "            rand_num_img_second = np.random.randint(0,X.shape[1])\n",
    "            \n",
    "        second_image = X[rand_num_class_second][rand_num_img_second]\n",
    "        pairs.append([first_image, second_image])\n",
    "        \n",
    "    return pairs, labels\n",
    "        \n",
    "train_X_pair, train_y_pair = create_pairs_train(train_X, 140000)"
   ]
  },
  {
   "cell_type": "code",
   "execution_count": 8,
   "metadata": {},
   "outputs": [],
   "source": [
    "def create_pairs_val(X, dataset_size):\n",
    "    pairs = []\n",
    "    labels = []\n",
    "    for i in range(dataset_size):\n",
    "        rand_num_class_first = np.random.randint(0,X.shape[0])\n",
    "        rand_num_img_first = np.random.randint(0,X.shape[1])\n",
    "        first_image = X[rand_num_class_first][rand_num_img_first]\n",
    "        \n",
    "        if(np.random.rand() > 0.5):\n",
    "            rand_num_class_second = rand_num_class_first\n",
    "            labels.append(0.0)\n",
    "        \n",
    "        else:\n",
    "            rand_num_class_second = np.random.randint(0,X.shape[0])\n",
    "            while(rand_num_class_second == rand_num_class_first):\n",
    "                rand_num_class_second = np.random.randint(0,X.shape[0])\n",
    "            labels.append(1)\n",
    "                \n",
    "        rand_num_img_second = np.random.randint(0,X.shape[1])\n",
    "            \n",
    "        while(rand_num_img_second == rand_num_img_first):\n",
    "            rand_num_img_second = np.random.randint(0,X.shape[1])\n",
    "            \n",
    "        second_image = X[rand_num_class_second][rand_num_img_second]\n",
    "        pairs.append([first_image, second_image])\n",
    "        \n",
    "    return pairs, labels\n",
    "        \n",
    "val_X_pair, val_y_pair = create_pairs_val(val_X, 40000)"
   ]
  },
  {
   "cell_type": "code",
   "execution_count": 9,
   "metadata": {},
   "outputs": [
    {
     "data": {
      "text/plain": [
       "{0.0: 20091, 1.0: 19909}"
      ]
     },
     "execution_count": 9,
     "metadata": {},
     "output_type": "execute_result"
    }
   ],
   "source": [
    "a = np.array(val_y_pair,dtype=np.float64)\n",
    "unique, counts = np.unique(a, return_counts=True)\n",
    "dict(zip(unique, counts))"
   ]
  },
  {
   "cell_type": "markdown",
   "metadata": {},
   "source": [
    "(Xi,Yi)를 가지고 있는 데이터 셋에서 어떻게 매핑 할 것인지 생각해보자. Xi는 입력,Yi는 출력을 나타낸다.\n",
    "\n",
    "Xi = 이미지의 쌍 , Yi= 1, 인 경우 두 이미지는 비슷한 문자를 가지고 있다. Yi= 0, 인 경우 두 이미지는 다른 문자를 가지고 있다.\n",
    "\n",
    "batch_size를 통해 함수를 호출해야 하며, batch_size 수만큼 이미지의 쌍을 반환한다.\n",
    "\n"
   ]
  },
  {
   "cell_type": "code",
   "execution_count": 10,
   "metadata": {},
   "outputs": [
    {
     "data": {
      "image/jpeg": "[encoded data removed]",
      "text/plain": [
       "<IPython.core.display.Image object>"
      ]
     },
     "execution_count": 10,
     "metadata": {},
     "output_type": "execute_result"
    }
   ],
   "source": [
    "from IPython.display import Image\n",
    "Image(\"explain image/모델구조.jpg\")"
   ]
  },
  {
   "cell_type": "markdown",
   "metadata": {},
   "source": [
    "Convolutional Neural Networks는 다른 네트워크가 아닌 동일한 네트워크이다. 매개 변수 값을 공유한다. x1과 x2 두개의 이미지가 ConvNet을 지나 각각의 fixed length feature vector를 생성한다.  \n",
    "  neural network 모델이 훈련이 잘되어 있다고 가정한다면, 두개의 입력 이미지가 같은 문자라면 feature vectors 또한 비슷하다. 두개의 이미지가 다른 문자라면 feature vectors 는 차이가 있다.   \n",
    "  그래서 두 이미지의 feature vectors는 위와 같은 경우에 분명히 차이가 있어야하며, sigmoid layer층에서 생성된 유사성 점수도 차이가 있어야한다."
   ]
  },
  {
   "cell_type": "code",
   "execution_count": 11,
   "metadata": {},
   "outputs": [],
   "source": [
    "from tensorflow.keras import layers\n",
    "\n",
    "def base_network():\n",
    "  \n",
    "    conv_base = tf.keras.applications.ResNet50(weights=\"imagenet\",\n",
    "                                            include_top=False,\n",
    "                                            pooling = 'max',\n",
    "                                            classifier_activation=None,\n",
    "                                            input_shape=(train_X.shape[2],train_X.shape[3],train_X.shape[4]))\n",
    "    conv_base.trainable =False\n",
    "    \n",
    "    model = tf.keras.Sequential()\n",
    "    model.add(conv_base)\n",
    "    #model.add(layers.Flatten())\n",
    "    #model.add(layers.Dense(48, activation='relu'))\n",
    "    #model.add(layers.BatchNormalization())\n",
    "    #model.add(layers.Dropout(0.6))    \n",
    "    #model.add(layers.Dense(64, activation='relu'))\n",
    "    #model.add(layers.Dropout(0.6))\n",
    "    model.add(layers.Dense(12, activation=None, kernel_regularizer=tf.keras.regularizers.l2(0.2)))  \n",
    "    \n",
    "    return model\n",
    "\n",
    "\n",
    "def euclidean_distance(vects):\n",
    "    x, y = vects\n",
    "    sum_square = tf.math.reduce_sum(tf.math.square(x - y), axis=1, keepdims=True)\n",
    "    return tf.math.sqrt(tf.math.maximum(sum_square, 1e-7))"
   ]
  },
  {
   "cell_type": "code",
   "execution_count": 12,
   "metadata": {},
   "outputs": [],
   "source": [
    "class IdentitiyBlock(tf.keras.Model):\n",
    "    def __init__(self,filters,kernel_size):\n",
    "        super(IdentitiyBlock, self).__init__(name='')\n",
    "        \n",
    "        self.conv1 = tf.keras.layers.Conv2D(filters, kernel_size, padding='same')\n",
    "        self.bn1 = tf.keras.layers.BatchNormalization()\n",
    "        \n",
    "        self.conv2 = tf.keras.layers.Conv2D(filters, kernel_size, padding='same')\n",
    "        self.bn2 = tf.keras.layers.BatchNormalization()\n",
    "        \n",
    "        self.act = tf.keras.layers.Activation('relu')\n",
    "        self.add = tf.keras.layers.Add()\n",
    "        self.drop = tf.keras.layers.SpatialDropout2D(0.5)\n",
    "        \n",
    "    def call(self, input_tensor):\n",
    "        x = self.conv1(input_tensor)\n",
    "        x = self.bn1(x)\n",
    "        x = self.act(x)\n",
    "        x = self.drop(x)\n",
    "        \n",
    "        x = self.conv2(x)\n",
    "        x = self.bn2(x)\n",
    "        x = self.act(x)\n",
    "        \n",
    "        x = self.add([x , input_tensor])\n",
    "        x = self.act(x)\n",
    "        \n",
    "        return x\n",
    "    \n",
    "class ResNet18(tf.keras.Model):\n",
    "    def __init__(self):\n",
    "        super(ResNet18, self).__init__()\n",
    "        self.conv = tf.keras.layers.Conv2D(16,7,padding='same')\n",
    "        self.bn = tf.keras.layers.BatchNormalization()\n",
    "        self.act = tf.keras.layers.Activation('relu')\n",
    "        self.max_pooling = tf.keras.layers.MaxPool2D((4,4))\n",
    "        self.id1a = IdentitiyBlock(16,4)\n",
    "        self.id1b = IdentitiyBlock(16,4)\n",
    "        self.global_pool = tf.keras.layers.GlobalAvgPool2D()\n",
    "        self.dense = layers.Dense(16, activation=None, kernel_regularizer=tf.keras.regularizers.l2(0.2))\n",
    "        \n",
    "    def call(self, inputs):\n",
    "        x = self.conv(inputs)\n",
    "        x = self.bn(x)\n",
    "        x = self.act(x)\n",
    "        x = self.max_pooling(x)\n",
    "        \n",
    "        x = self.id1a(x)\n",
    "        #x = self.id1b(x)\n",
    "        \n",
    "        x = self.global_pool(x)\n",
    "        #x = self.dense(x)\n",
    "        \n",
    "        return x            "
   ]
  },
  {
   "cell_type": "code",
   "execution_count": 13,
   "metadata": {},
   "outputs": [
    {
     "data": {
      "image/png": "[encoded data removed]",
      "text/plain": [
       "<IPython.core.display.Image object>"
      ]
     },
     "execution_count": 13,
     "metadata": {},
     "output_type": "execute_result"
    }
   ],
   "source": [
    "from tensorflow.keras.utils import plot_model\n",
    "base_model = base_network()\n",
    "plot_model(base_model, show_shapes=True, show_layer_names=True)"
   ]
  },
  {
   "cell_type": "code",
   "execution_count": 14,
   "metadata": {},
   "outputs": [],
   "source": [
    "def base_network_vgg16():\n",
    "      \n",
    "    conv_base = tf.keras.applications.VGG16(weights='imagenet', include_top=False, input_shape=(60, 60, 3))\n",
    "    conv_base.trainable = False\n",
    "    \n",
    "    model = tf.keras.Sequential()\n",
    "    model.add(conv_base)\n",
    "    model.add(layers.Flatten())\n",
    "    model.add(layers.Dense(32, activation='relu'))\n",
    "    model.add(layers.BatchNormalization())\n",
    "    model.add(layers.Dropout(0.6))\n",
    "    model.add(layers.Dense(8, activation=None, kernel_regularizer=tf.keras.regularizers.l2(0.2)))  \n",
    "    \n",
    "    return model\n",
    "\n",
    "base_model = base_network()"
   ]
  },
  {
   "cell_type": "code",
   "execution_count": 15,
   "metadata": {},
   "outputs": [],
   "source": [
    "def create_cnn():\n",
    "    model = tf.keras.Sequential()\n",
    "\n",
    "    model.add(layers.Conv2D(16, (10, 10), activation=layers.LeakyReLU(alpha=0.01), strides=2, \n",
    "                            input_shape=(60, 60, 3) ,kernel_initializer='he_normal'))\n",
    "    model.add(layers.MaxPool2D(pool_size=(2,2), strides= (1, 1), padding = 'valid'  ) )\n",
    "    model.add(layers.Conv2D(64, (7, 7),  activation=layers.LeakyReLU(alpha=0.01), strides=2 ,kernel_initializer='he_normal'))\n",
    "    model.add(layers.MaxPool2D(pool_size=(2,2), strides=  (1, 1), padding = 'valid'  ))\n",
    "    model.add(layers.Conv2D(256, (4, 4), activation=layers.LeakyReLU(alpha=0.01), strides=2 ,kernel_initializer='he_normal'))\n",
    "    model.add(layers.GlobalAveragePooling2D())\n",
    "    \n",
    "    return model\n",
    "\n",
    "#base_model = create_cnn()"
   ]
  },
  {
   "cell_type": "code",
   "execution_count": 16,
   "metadata": {},
   "outputs": [],
   "source": [
    "def base_network_densenet():\n",
    "      \n",
    "    conv_base = tf.keras.applications.densenet.DenseNet121(weights=\"imagenet\",\n",
    "                                            include_top=False,\n",
    "                                            pooling = 'max',\n",
    "                                            #classifier_activation=None,\n",
    "                                            input_shape=(train_X.shape[2],train_X.shape[3],train_X.shape[4]))\n",
    "    conv_base.trainable =False\n",
    "    \n",
    "    model = tf.keras.Sequential()\n",
    "    model.add(conv_base)\n",
    "    model.add(layers.Flatten())\n",
    "    #model.add(layers.Dense(48, activation='relu'))\n",
    "    #model.add(layers.BatchNormalization())\n",
    "    #model.add(layers.Dropout(0.6))    \n",
    "    #model.add(layers.Dense(64, activation='relu'))\n",
    "    #model.add(layers.Dropout(0.6))\n",
    "    model.add(layers.Dense(24, activation=None, kernel_regularizer=tf.keras.regularizers.l2(0.2)))  \n",
    "    \n",
    "    return model\n",
    "\n",
    "#base_model = base_network_densenet()"
   ]
  },
  {
   "cell_type": "code",
   "execution_count": 17,
   "metadata": {},
   "outputs": [],
   "source": [
    "#마지막 block층만 train\n",
    "\n",
    "def create_resnet():\n",
    "    conv_base = tf.keras.applications.ResNet50(weights=\"imagenet\",\n",
    "                                            include_top=False,\n",
    "                                            pooling = 'max',\n",
    "                                            input_shape=(train_X.shape[2],train_X.shape[3],train_X.shape[4]))\n",
    "    \n",
    "    for layer in [l for l in conv_base.layers if 'conv5' not in l.name]:\n",
    "        layer.trainable = False\n",
    "    for layer in [l for l in conv_base.layers if 'conv5' in l.name or l.name == 'probs']:\n",
    "        layer.trainable = True\n",
    "        \n",
    "    #conv_base.trainable = False\n",
    "    \n",
    "    model = tf.keras.Sequential()\n",
    "    model.add(conv_base)\n",
    "    model.add(layers.Flatten())\n",
    "    model.add(layers.Dense(256, activation=None, kernel_regularizer=tf.keras.regularizers.l2(0.002)))  \n",
    "    \n",
    "    return model\n",
    "\n",
    "base_model = create_resnet()"
   ]
  },
  {
   "cell_type": "code",
   "execution_count": 18,
   "metadata": {},
   "outputs": [
    {
     "data": {
      "image/png": "[encoded data removed]",
      "text/plain": [
       "<IPython.core.display.Image object>"
      ]
     },
     "execution_count": 18,
     "metadata": {},
     "output_type": "execute_result"
    }
   ],
   "source": [
    "from tensorflow.keras.layers import Lambda\n",
    "\n",
    "input_a = Input(shape=(train_X.shape[2],train_X.shape[3],train_X.shape[4]), name='left_input')\n",
    "vector_output_a = base_model(input_a)\n",
    "input_b = Input(shape=(train_X.shape[2],train_X.shape[3],train_X.shape[4]), name='right_input')\n",
    "vector_output_b = base_model(input_b)\n",
    "output = Lambda(euclidean_distance, name='output_layer')([vector_output_a, vector_output_b])\n",
    "# define model\n",
    "model = Model([input_a, input_b], output)\n",
    "plot_model(model, show_shapes=True, show_layer_names=True)"
   ]
  },
  {
   "cell_type": "code",
   "execution_count": 19,
   "metadata": {},
   "outputs": [],
   "source": [
    "from tensorflow.keras.callbacks import LearningRateScheduler\n",
    "\n",
    "checkpoint_path = \"weight/cp-{epoch:02d}.ckpt\"\n",
    "checkpoint_dir = os.path.dirname(checkpoint_path)\n",
    "\n",
    "cp_callback = tf.keras.callbacks.ModelCheckpoint(checkpoint_path, save_weights_only = True, save_freq='epoch',  monitor='val_loss', verbose=1, mode=\"min\")\n",
    "\n",
    "earlystopping = tf.keras.callbacks.EarlyStopping(monitor='val_loss', \n",
    "                              patience=40)\n",
    "\n",
    "cos_decay_ann = tf.keras.experimental.CosineDecayRestarts(initial_learning_rate=0.0002, first_decay_steps=10, t_mul=1, m_mul=0.9, alpha=0)\n",
    "\n",
    "cos_decay = tf.keras.optimizers.schedules.CosineDecay(initial_learning_rate=0.0003, decay_steps=100, alpha=0.001)\n",
    "\n"
   ]
  },
  {
   "cell_type": "code",
   "execution_count": 20,
   "metadata": {},
   "outputs": [
    {
     "name": "stdout",
     "output_type": "stream",
     "text": [
      "Epoch 1/100\n",
      "2188/2188 [==============================] - 464s 208ms/step - loss: 2.3061 - val_loss: 1.0161\n",
      "\n",
      "Epoch 00001: saving model to weight\\cp-01.ckpt\n",
      "Epoch 2/100\n",
      "2188/2188 [==============================] - 436s 199ms/step - loss: 0.3833 - val_loss: 0.6003\n",
      "\n",
      "Epoch 00002: saving model to weight\\cp-02.ckpt\n",
      "Epoch 3/100\n",
      "2188/2188 [==============================] - 431s 197ms/step - loss: 0.1241 - val_loss: 0.5123\n",
      "\n",
      "Epoch 00003: saving model to weight\\cp-03.ckpt\n",
      "Epoch 4/100\n",
      "2188/2188 [==============================] - 431s 197ms/step - loss: 0.0897 - val_loss: 0.5145\n",
      "\n",
      "Epoch 00004: saving model to weight\\cp-04.ckpt\n",
      "Epoch 5/100\n",
      "2188/2188 [==============================] - 440s 201ms/step - loss: 0.0888 - val_loss: 0.5066\n",
      "\n",
      "Epoch 00005: saving model to weight\\cp-05.ckpt\n",
      "Epoch 6/100\n",
      "2188/2188 [==============================] - 430s 197ms/step - loss: 0.0878 - val_loss: 0.4872\n",
      "\n",
      "Epoch 00006: saving model to weight\\cp-06.ckpt\n",
      "Epoch 7/100\n",
      "2188/2188 [==============================] - 429s 196ms/step - loss: 0.0860 - val_loss: 0.5563\n",
      "\n",
      "Epoch 00007: saving model to weight\\cp-07.ckpt\n",
      "Epoch 8/100\n",
      "2188/2188 [==============================] - 433s 198ms/step - loss: 0.0844 - val_loss: 0.5756\n",
      "\n",
      "Epoch 00008: saving model to weight\\cp-08.ckpt\n",
      "Epoch 9/100\n",
      "2188/2188 [==============================] - 448s 205ms/step - loss: 0.0827 - val_loss: 0.5532\n",
      "\n",
      "Epoch 00009: saving model to weight\\cp-09.ckpt\n",
      "Epoch 10/100\n",
      "2188/2188 [==============================] - 446s 204ms/step - loss: 0.0802 - val_loss: 0.5041\n",
      "\n",
      "Epoch 00010: saving model to weight\\cp-10.ckpt\n",
      "Epoch 11/100\n",
      "2188/2188 [==============================] - 465s 213ms/step - loss: 0.0785 - val_loss: 0.4861\n",
      "\n",
      "Epoch 00011: saving model to weight\\cp-11.ckpt\n",
      "Epoch 12/100\n",
      "2188/2188 [==============================] - 444s 203ms/step - loss: 0.0762 - val_loss: 0.5126\n",
      "\n",
      "Epoch 00012: saving model to weight\\cp-12.ckpt\n",
      "Epoch 13/100\n",
      "2188/2188 [==============================] - 430s 197ms/step - loss: 0.0743 - val_loss: 0.5287\n",
      "\n",
      "Epoch 00013: saving model to weight\\cp-13.ckpt\n",
      "Epoch 14/100\n",
      "2188/2188 [==============================] - 426s 195ms/step - loss: 0.0724 - val_loss: 0.5217\n",
      "\n",
      "Epoch 00014: saving model to weight\\cp-14.ckpt\n",
      "Epoch 15/100\n",
      "2188/2188 [==============================] - 429s 196ms/step - loss: 0.0707 - val_loss: 0.5921\n",
      "\n",
      "Epoch 00015: saving model to weight\\cp-15.ckpt\n",
      "Epoch 16/100\n",
      "2188/2188 [==============================] - 427s 195ms/step - loss: 0.0691 - val_loss: 0.5444\n",
      "\n",
      "Epoch 00016: saving model to weight\\cp-16.ckpt\n",
      "Epoch 17/100\n",
      "2188/2188 [==============================] - 429s 196ms/step - loss: 0.0674 - val_loss: 0.5107\n",
      "\n",
      "Epoch 00017: saving model to weight\\cp-17.ckpt\n",
      "Epoch 18/100\n",
      "2188/2188 [==============================] - 426s 195ms/step - loss: 0.0657 - val_loss: 0.5225\n",
      "\n",
      "Epoch 00018: saving model to weight\\cp-18.ckpt\n",
      "Epoch 19/100\n",
      "2188/2188 [==============================] - 427s 195ms/step - loss: 0.0641 - val_loss: 0.5576\n",
      "\n",
      "Epoch 00019: saving model to weight\\cp-19.ckpt\n",
      "Epoch 20/100\n",
      "2188/2188 [==============================] - 427s 195ms/step - loss: 0.0625 - val_loss: 0.5762\n",
      "\n",
      "Epoch 00020: saving model to weight\\cp-20.ckpt\n",
      "Epoch 21/100\n",
      "2188/2188 [==============================] - 427s 195ms/step - loss: 0.0613 - val_loss: 0.5507\n",
      "\n",
      "Epoch 00021: saving model to weight\\cp-21.ckpt\n",
      "Epoch 22/100\n",
      "2188/2188 [==============================] - 427s 195ms/step - loss: 0.0596 - val_loss: 0.5450\n",
      "\n",
      "Epoch 00022: saving model to weight\\cp-22.ckpt\n",
      "Epoch 23/100\n",
      "2188/2188 [==============================] - 425s 194ms/step - loss: 0.0582 - val_loss: 0.5465\n",
      "\n",
      "Epoch 00023: saving model to weight\\cp-23.ckpt\n",
      "Epoch 24/100\n",
      "2188/2188 [==============================] - 425s 194ms/step - loss: 0.0567 - val_loss: 0.5197\n",
      "\n",
      "Epoch 00024: saving model to weight\\cp-24.ckpt\n",
      "Epoch 25/100\n",
      "2188/2188 [==============================] - 426s 195ms/step - loss: 0.0550 - val_loss: 0.5441\n",
      "\n",
      "Epoch 00025: saving model to weight\\cp-25.ckpt\n",
      "Epoch 26/100\n",
      "2188/2188 [==============================] - 425s 194ms/step - loss: 0.0535 - val_loss: 0.5511\n",
      "\n",
      "Epoch 00026: saving model to weight\\cp-26.ckpt\n",
      "Epoch 27/100\n",
      "2188/2188 [==============================] - 425s 194ms/step - loss: 0.0518 - val_loss: 0.6054\n",
      "\n",
      "Epoch 00027: saving model to weight\\cp-27.ckpt\n",
      "Epoch 28/100\n",
      "2188/2188 [==============================] - 426s 195ms/step - loss: 0.0500 - val_loss: 0.5827\n",
      "\n",
      "Epoch 00028: saving model to weight\\cp-28.ckpt\n",
      "Epoch 29/100\n",
      "2188/2188 [==============================] - 426s 195ms/step - loss: 0.0484 - val_loss: 0.5695\n",
      "\n",
      "Epoch 00029: saving model to weight\\cp-29.ckpt\n",
      "Epoch 30/100\n",
      "2188/2188 [==============================] - 428s 195ms/step - loss: 0.0465 - val_loss: 0.5748\n",
      "\n",
      "Epoch 00030: saving model to weight\\cp-30.ckpt\n",
      "Epoch 31/100\n",
      "2188/2188 [==============================] - 425s 194ms/step - loss: 0.0453 - val_loss: 0.5473\n",
      "\n",
      "Epoch 00031: saving model to weight\\cp-31.ckpt\n",
      "Epoch 32/100\n",
      "2188/2188 [==============================] - 427s 195ms/step - loss: 0.0436 - val_loss: 0.5829\n",
      "\n",
      "Epoch 00032: saving model to weight\\cp-32.ckpt\n",
      "Epoch 33/100\n",
      "2188/2188 [==============================] - 425s 194ms/step - loss: 0.0419 - val_loss: 0.6022\n",
      "\n",
      "Epoch 00033: saving model to weight\\cp-33.ckpt\n",
      "Epoch 34/100\n",
      "2188/2188 [==============================] - 427s 195ms/step - loss: 0.0402 - val_loss: 0.5910\n",
      "\n",
      "Epoch 00034: saving model to weight\\cp-34.ckpt\n",
      "Epoch 35/100\n",
      "2188/2188 [==============================] - 425s 194ms/step - loss: 0.0388 - val_loss: 0.5787\n",
      "\n",
      "Epoch 00035: saving model to weight\\cp-35.ckpt\n",
      "Epoch 36/100\n",
      "2188/2188 [==============================] - 429s 196ms/step - loss: 0.0373 - val_loss: 0.6109\n",
      "\n",
      "Epoch 00036: saving model to weight\\cp-36.ckpt\n",
      "Epoch 37/100\n",
      "2188/2188 [==============================] - 426s 195ms/step - loss: 0.0359 - val_loss: 0.6021\n",
      "\n",
      "Epoch 00037: saving model to weight\\cp-37.ckpt\n",
      "Epoch 38/100\n",
      "2188/2188 [==============================] - 428s 196ms/step - loss: 0.0346 - val_loss: 0.6070\n",
      "\n",
      "Epoch 00038: saving model to weight\\cp-38.ckpt\n",
      "Epoch 39/100\n",
      "2188/2188 [==============================] - 427s 195ms/step - loss: 0.0334 - val_loss: 0.7177\n",
      "\n",
      "Epoch 00039: saving model to weight\\cp-39.ckpt\n",
      "Epoch 40/100\n",
      "2188/2188 [==============================] - 429s 196ms/step - loss: 0.0321 - val_loss: 0.6347\n",
      "\n",
      "Epoch 00040: saving model to weight\\cp-40.ckpt\n",
      "Epoch 41/100\n",
      "2188/2188 [==============================] - 427s 195ms/step - loss: 0.0309 - val_loss: 0.7002\n",
      "\n",
      "Epoch 00041: saving model to weight\\cp-41.ckpt\n",
      "Epoch 42/100\n",
      "2188/2188 [==============================] - 427s 195ms/step - loss: 0.0298 - val_loss: 0.7116\n",
      "\n",
      "Epoch 00042: saving model to weight\\cp-42.ckpt\n",
      "Epoch 43/100\n",
      "2188/2188 [==============================] - 426s 195ms/step - loss: 0.0287 - val_loss: 0.6950\n",
      "\n",
      "Epoch 00043: saving model to weight\\cp-43.ckpt\n",
      "Epoch 44/100\n",
      "2188/2188 [==============================] - 427s 195ms/step - loss: 0.0277 - val_loss: 0.6808\n",
      "\n",
      "Epoch 00044: saving model to weight\\cp-44.ckpt\n",
      "Epoch 45/100\n",
      "2188/2188 [==============================] - 426s 195ms/step - loss: 0.0268 - val_loss: 0.7259\n",
      "\n",
      "Epoch 00045: saving model to weight\\cp-45.ckpt\n",
      "Epoch 46/100\n",
      "2188/2188 [==============================] - 426s 195ms/step - loss: 0.0258 - val_loss: 0.6851\n",
      "\n",
      "Epoch 00046: saving model to weight\\cp-46.ckpt\n",
      "Epoch 47/100\n",
      "2188/2188 [==============================] - 428s 196ms/step - loss: 0.0251 - val_loss: 0.7238\n",
      "\n",
      "Epoch 00047: saving model to weight\\cp-47.ckpt\n",
      "Epoch 48/100\n",
      "2188/2188 [==============================] - 427s 195ms/step - loss: 0.0243 - val_loss: 0.7339\n",
      "\n",
      "Epoch 00048: saving model to weight\\cp-48.ckpt\n",
      "Epoch 49/100\n",
      "2188/2188 [==============================] - 429s 196ms/step - loss: 0.0234 - val_loss: 0.8255\n",
      "\n",
      "Epoch 00049: saving model to weight\\cp-49.ckpt\n",
      "Epoch 50/100\n",
      "2188/2188 [==============================] - 426s 195ms/step - loss: 0.0227 - val_loss: 0.7574\n",
      "\n",
      "Epoch 00050: saving model to weight\\cp-50.ckpt\n",
      "Epoch 51/100\n",
      "2188/2188 [==============================] - 430s 197ms/step - loss: 0.0221 - val_loss: 0.7671\n",
      "\n",
      "Epoch 00051: saving model to weight\\cp-51.ckpt\n"
     ]
    }
   ],
   "source": [
    "from tensorflow.keras.optimizers import Adam\n",
    "\n",
    "def contrastive_loss_with_margin(margin):\n",
    "    def contrastive_loss(y_true, y_pred):\n",
    "        '''Contrastive loss from Hadsell-et-al.'06\n",
    "        http://yann.lecun.com/exdb/publis/pdf/hadsell-chopra-lecun-06.pdf\n",
    "        '''\n",
    "        square_pred = tf.math.square(y_pred)\n",
    "        margin_square = tf.math.square(tf.math.maximum(margin - y_pred, 0))\n",
    "        return tf.math.reduce_mean(y_true * square_pred + (1 - y_true) * margin_square)\n",
    "\n",
    "    return contrastive_loss\n",
    "\n",
    "model.compile(loss=contrastive_loss_with_margin(margin=1), optimizer=Adam())\n",
    "              \n",
    "history = model.fit([np.array(train_X_pair)[:, 0, :,:,:] , np.array(train_X_pair)[:, 1, :,:,:]] , np.array(train_y_pair,dtype=np.float64), \n",
    "                    epochs=100, batch_size = 64, callbacks= [earlystopping, cp_callback],\n",
    "                    validation_data=([np.array(val_X_pair)[:,0,:,:,:] , np.array(val_X_pair)[:, 1, :,:,:]] , np.array(val_y_pair,dtype=np.float64) ) )    \n",
    "                               "
   ]
  },
  {
   "cell_type": "code",
   "execution_count": 21,
   "metadata": {},
   "outputs": [
    {
     "data": {
      "image/png": "[encoded data removed]",
      "text/plain": [
       "<Figure size 720x720 with 1 Axes>"
      ]
     },
     "metadata": {},
     "output_type": "display_data"
    }
   ],
   "source": [
    "import matplotlib.pyplot as plt\n",
    "%matplotlib inline\n",
    "\n",
    "hist = history\n",
    "fig = plt.figure(figsize=(10,10))\n",
    "fig.set_facecolor('white')\n",
    "ax = fig.add_subplot()\n",
    "\n",
    "ax.plot(hist.history[\"loss\"], label = 'loss', marker='o')\n",
    "ax.plot(hist.history[\"val_loss\"], label = 'val_loss', marker='o')\n",
    "ax.legend()\n",
    "\n",
    "plt.title('Dense net', fontsize=20)\n",
    "plt.show()"
   ]
  },
  {
   "cell_type": "code",
   "execution_count": 22,
   "metadata": {},
   "outputs": [],
   "source": [
    "val_loss_history = hist.history[\"val_loss\"]\n",
    "max_point = val_loss_history.index(min(val_loss_history))\n",
    "\n",
    "model_trained = Model([input_a, input_b], output)\n",
    "model_trained.compile(loss=contrastive_loss_with_margin(margin=1), optimizer=Adam())\n",
    "\n",
    "if max_point > 8:\n",
    "    model_trained.load_weights(\n",
    "        \"weight/cp-\" + str(max_point+1) + \".ckpt\"\n",
    "    )\n",
    "else:\n",
    "    model_trained.load_weights(\n",
    "        \"weight/cp-0\" + str(max_point+1) + \".ckpt\"\n",
    "    )"
   ]
  },
  {
   "cell_type": "code",
   "execution_count": 23,
   "metadata": {},
   "outputs": [
    {
     "data": {
      "text/plain": [
       "10"
      ]
     },
     "execution_count": 23,
     "metadata": {},
     "output_type": "execute_result"
    }
   ],
   "source": [
    "max_point"
   ]
  },
  {
   "cell_type": "code",
   "execution_count": 24,
   "metadata": {},
   "outputs": [
    {
     "name": "stdout",
     "output_type": "stream",
     "text": [
      "loading alphabet: Atemayar_Qelisayer\n",
      "loading alphabet: Aurek-Besh\n",
      "loading alphabet: Ge_ez\n",
      "loading alphabet: Gurmukhi\n",
      "loading alphabet: Keble\n",
      "loading alphabet: Manipuri\n",
      "loading alphabet: Old_Church_Slavonic_(Cyrillic)\n",
      "loading alphabet: Sylheti\n",
      "loading alphabet: Tengwar\n",
      "loading alphabet: ULOG\n"
     ]
    }
   ],
   "source": [
    "test_folder = 'evaluation_folder/images_evaluation/'\n",
    "\n",
    "test_X, test_y ,c_test=loadimgs(test_folder)"
   ]
  },
  {
   "cell_type": "code",
   "execution_count": 25,
   "metadata": {},
   "outputs": [],
   "source": [
    "import random\n",
    "\n",
    "def create_pairs_20_shots(X, dataset_size):\n",
    "    pairs = []\n",
    "    \n",
    "    for i in range(dataset_size):\n",
    "               \n",
    "        class_nums = random.sample(range(0,X.shape[0]), 20)\n",
    "        rand_num_img_first = np.random.randint(0,X.shape[1])\n",
    "        first_image = X[class_nums[0]][rand_num_img_first]\n",
    "        \n",
    "        rand_num_img_second = np.random.randint(0,X.shape[1])\n",
    "        if(rand_num_img_first == rand_num_img_second):\n",
    "            rand_num_img_second = np.random.randint(0,X.shape[1])\n",
    "            \n",
    "        second_image = X[class_nums[0]][rand_num_img_second]\n",
    "        pairs.append([first_image,second_image])\n",
    "        \n",
    "        for j in range(1,20):\n",
    "            temp_image = X[class_nums[j]][np.random.randint(0,X.shape[1])]\n",
    "            pairs.append([first_image,temp_image])\n",
    "            \n",
    "          \n",
    "        \n",
    "    return pairs\n",
    "        \n",
    "test_X_pair = create_pairs_20_shots(test_X, 2000)"
   ]
  },
  {
   "cell_type": "code",
   "execution_count": 26,
   "metadata": {},
   "outputs": [
    {
     "name": "stdout",
     "output_type": "stream",
     "text": [
      "WARNING:tensorflow:Unresolved object in checkpoint: (root).optimizer.iter\n",
      "WARNING:tensorflow:Unresolved object in checkpoint: (root).optimizer.beta_1\n",
      "WARNING:tensorflow:Unresolved object in checkpoint: (root).optimizer.beta_2\n",
      "WARNING:tensorflow:Unresolved object in checkpoint: (root).optimizer.decay\n",
      "WARNING:tensorflow:Unresolved object in checkpoint: (root).optimizer.learning_rate\n",
      "WARNING:tensorflow:A checkpoint was restored (e.g. tf.train.Checkpoint.restore or tf.keras.Model.load_weights) but not all checkpointed values were used. See above for specific issues. Use expect_partial() on the load status object, e.g. tf.train.Checkpoint.restore(...).expect_partial(), to silence these warnings, or use assert_consumed() to make the check explicit. See https://www.tensorflow.org/guide/checkpoint#loading_mechanics for details.\n"
     ]
    }
   ],
   "source": [
    "#max_point = 12\n",
    "\n",
    "model_trained = Model([input_a, input_b], output)\n",
    "model_trained.compile(loss=contrastive_loss_with_margin(margin=1), optimizer=Adam())\n",
    "\n",
    "if max_point > 8:\n",
    "    model_trained.load_weights(\n",
    "        \"weight/cp-\" + str(max_point+1) + \".ckpt\"\n",
    "    )\n",
    "else:\n",
    "    model_trained.load_weights(\n",
    "        \"weight/cp-0\" + str(max_point+1) + \".ckpt\"\n",
    "    )"
   ]
  },
  {
   "cell_type": "code",
   "execution_count": 27,
   "metadata": {},
   "outputs": [],
   "source": [
    "y_pred = model_trained.predict([np.array(test_X_pair)[:, 0, :,:,:] , np.array(test_X_pair)[:, 1, :,:,:]])\n",
    "y_pred = y_pred.reshape(-1,20)"
   ]
  },
  {
   "cell_type": "code",
   "execution_count": 28,
   "metadata": {},
   "outputs": [],
   "source": [
    "result = []\n",
    "\n",
    "for i in range(y_pred.shape[0]):\n",
    "    if (y_pred[i].min() == y_pred[i][0]):\n",
    "        result.append(1.0)\n",
    "    else:\n",
    "        result.append(0.0)"
   ]
  },
  {
   "cell_type": "code",
   "execution_count": 29,
   "metadata": {},
   "outputs": [
    {
     "data": {
      "text/plain": [
       "0.654"
      ]
     },
     "execution_count": 29,
     "metadata": {},
     "output_type": "execute_result"
    }
   ],
   "source": [
    "score = np.mean(result)\n",
    "score"
   ]
  },
  {
   "cell_type": "code",
   "execution_count": 30,
   "metadata": {},
   "outputs": [
    {
     "data": {
      "text/plain": [
       "2000"
      ]
     },
     "execution_count": 30,
     "metadata": {},
     "output_type": "execute_result"
    }
   ],
   "source": [
    "len(result)"
   ]
  },
  {
   "cell_type": "code",
   "execution_count": 31,
   "metadata": {},
   "outputs": [
    {
     "data": {
      "text/plain": [
       "array([0.22562602, 1.1041702 , 0.8506043 , 1.056572  , 0.875646  ,\n",
       "       0.8058853 , 1.0298779 , 0.9201489 , 0.6961994 , 1.0699008 ,\n",
       "       0.6657185 , 0.68405014, 1.1445152 , 0.95342153, 0.98374957,\n",
       "       1.1117395 , 1.0122346 , 0.6637932 , 0.80819386, 1.271525  ],\n",
       "      dtype=float32)"
      ]
     },
     "execution_count": 31,
     "metadata": {},
     "output_type": "execute_result"
    }
   ],
   "source": [
    "y_pred[0]"
   ]
  },
  {
   "cell_type": "code",
   "execution_count": 32,
   "metadata": {},
   "outputs": [
    {
     "data": {
      "text/plain": [
       "1.0"
      ]
     },
     "execution_count": 32,
     "metadata": {},
     "output_type": "execute_result"
    }
   ],
   "source": [
    "result[0]"
   ]
  },
  {
   "cell_type": "code",
   "execution_count": 33,
   "metadata": {},
   "outputs": [
    {
     "name": "stderr",
     "output_type": "stream",
     "text": [
      "c:\\Users\\user\\.conda\\envs\\position31\\lib\\site-packages\\tensorflow\\python\\keras\\utils\\generic_utils.py:494: CustomMaskWarning: Custom mask layers require a config and must override get_config. When loading, the custom mask layer must be passed to the custom_objects argument.\n",
      "  warnings.warn('Custom mask layers require a config and must override '\n"
     ]
    }
   ],
   "source": [
    "model_trained.save('omniglot.h5')"
   ]
  }
 ],
 "metadata": {
  "kernelspec": {
   "display_name": "Python 3.9.0 ('position31')",
   "language": "python",
   "name": "python3"
  },
  "language_info": {
   "codemirror_mode": {
    "name": "ipython",
    "version": 3
   },
   "file_extension": ".py",
   "mimetype": "text/x-python",
   "name": "python",
   "nbconvert_exporter": "python",
   "pygments_lexer": "ipython3",
   "version": "3.9.0"
  },
  "orig_nbformat": 4,
  "vscode": {
   "interpreter": {
    "hash": "5a905c007ff2d38bb2c7b3a29a7607fb69ad0b0424e092736524db498399bd8a"
   }
  }
 },
 "nbformat": 4,
 "nbformat_minor": 2
}
